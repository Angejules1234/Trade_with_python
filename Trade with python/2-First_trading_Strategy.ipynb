{
  "cells": [
    {
      "cell_type": "code",
      "execution_count": null,
      "metadata": {
        "colab": {
          "base_uri": "https://localhost:8080/"
        },
        "id": "SELynRZH3hfA",
        "outputId": "afe6a8e6-f6d2-4ac1-9936-7d1adc2cad25"
      },
      "outputs": [],
      "source": [
        "!pip install yfinance"
      ]
    },
    {
      "cell_type": "code",
      "execution_count": null,
      "metadata": {
        "id": "vjIltp4XqmxX"
      },
      "outputs": [],
      "source": [
        "import numpy as np\n",
        "import pandas as pd\n",
        "import yfinance as yf\n",
        "import warnings\n",
        "warnings.filterwarnings(\"ignore\")"
      ]
    },
    {
      "cell_type": "code",
      "execution_count": null,
      "metadata": {
        "id": "xBnTuK574blN"
      },
      "outputs": [],
      "source": [
        "# The code here will allow you to switch your graphics to dark mode for those who choose to code in dark mode\n",
        "import matplotlib.pyplot as plt\n",
        "\n",
        "import matplotlib as mpl\n",
        "from matplotlib import cycler\n",
        "colors = cycler('color',\n",
        "                ['#669FEE', '#66EE91', '#9988DD',\n",
        "                 '#EECC55', '#88BB44', '#FFBBBB'])\n",
        "plt.rc('figure', facecolor='#313233')\n",
        "plt.rc('axes', facecolor=\"#313233\", edgecolor='none',\n",
        "       axisbelow=True, grid=True, prop_cycle=colors,\n",
        "       labelcolor='gray')\n",
        "plt.rc('grid', color='474A4A', linestyle='solid')\n",
        "plt.rc('xtick', color='gray')\n",
        "plt.rc('ytick', direction='out', color='gray')\n",
        "plt.rc('legend', facecolor=\"#313233\", edgecolor=\"#313233\")\n",
        "plt.rc(\"text\", color=\"#C9C9C9\")"
      ]
    },
    {
      "attachments": {},
      "cell_type": "markdown",
      "metadata": {
        "id": "d5kArxfa4And"
      },
      "source": [
        "# Manage the data\n"
      ]
    },
    {
      "cell_type": "code",
      "execution_count": null,
      "metadata": {
        "id": "3nkP0bhO4pMq"
      },
      "outputs": [],
      "source": [
        "# Preprocessing function\n",
        "\n",
        "def preprocessing(name):\n",
        "  \n",
        "  # Import the data\n",
        "  df = pd.read_csv(name, delimiter=\"\\t\", index_col=\"<DATE>\", parse_dates=True)\n",
        "\n",
        "  # Delete the two last columns\n",
        "  df = df.iloc[:,:-2]\n",
        "\n",
        "  # Rename\n",
        "  df.columns = [\"open\", \"high\", \"low\", \"close\", \"volume\"]\n",
        "  df.index.name = \"time\"\n",
        "\n",
        "  return df"
      ]
    },
    {
      "cell_type": "code",
      "execution_count": null,
      "metadata": {
        "colab": {
          "base_uri": "https://localhost:8080/",
          "height": 467
        },
        "id": "CAfQp8Jc4D5M",
        "outputId": "983efef9-1d1b-48e5-9e0a-9e8708d57a30"
      },
      "outputs": [],
      "source": [
        "def preprocessing_yf(symbol):\n",
        "  \n",
        "  #Import the data\n",
        "  df = yf.download(\"EURUSD=X\").dropna()\n",
        "\n",
        "  #Rename\n",
        "  df.columns = [\"open\", \"high\", \"low\", \"close\", \"adj close\", \"volume\"]\n",
        "  df.index.name = \"time\"\n",
        "\n",
        "  # Remove adj close\n",
        "  del df[\"adj close\"]\n",
        "\n",
        "  return df\n",
        "\n",
        "df = preprocessing_yf(\"EURUSD=X\")\n",
        "df"
      ]
    },
    {
      "attachments": {},
      "cell_type": "markdown",
      "metadata": {
        "id": "iqdNQiEkWWPr"
      },
      "source": [
        "# Moving average"
      ]
    },
    {
      "cell_type": "code",
      "execution_count": null,
      "metadata": {
        "id": "8j93JH03_vjV"
      },
      "outputs": [],
      "source": [
        "# Create Simple moving average 30 days\n",
        "df[\"SMA fast\"] = df[\"close\"].rolling(30).mean()\n",
        "\n",
        "# Create Simple moving average 60 days\n",
        "df[\"SMA slow\"] = df[\"close\"].rolling(60).mean()"
      ]
    },
    {
      "cell_type": "code",
      "execution_count": null,
      "metadata": {
        "colab": {
          "base_uri": "https://localhost:8080/",
          "height": 525
        },
        "id": "YCy5F6kkD2fL",
        "outputId": "5a176454-5589-4e75-d27f-6b5990c0805a"
      },
      "outputs": [],
      "source": [
        "# Plot the results\n",
        "df[[\"close\", \"SMA fast\", \"SMA slow\"]].loc[\"2020\"].plot(figsize=(15,8))"
      ]
    },
    {
      "attachments": {},
      "cell_type": "markdown",
      "metadata": {
        "id": "egkAZjEbYSFh"
      },
      "source": [
        "# Strategy"
      ]
    },
    {
      "cell_type": "code",
      "execution_count": null,
      "metadata": {
        "id": "AmVVgjGNYWga"
      },
      "outputs": [],
      "source": [
        "df[\"position\"]=np.nan\n",
        "\n",
        "# Create the condition\n",
        "df.loc[(df[\"SMA fast\"] > df[\"SMA slow\"]), \"position\"] = 1\n",
        "df.loc[(df[\"SMA fast\"] < df[\"SMA slow\"]), \"position\"] = -1"
      ]
    },
    {
      "attachments": {},
      "cell_type": "markdown",
      "metadata": {
        "id": "AlLEpBVQZQBE"
      },
      "source": [
        "# Verification Graph"
      ]
    },
    {
      "cell_type": "code",
      "execution_count": null,
      "metadata": {
        "colab": {
          "base_uri": "https://localhost:8080/",
          "height": 374
        },
        "id": "SP0OQw4vPOSp",
        "outputId": "94b4d9c0-1359-4e6f-c281-fefede56e439"
      },
      "outputs": [],
      "source": [
        "# We plot all the signla to be sure that they be correct\n",
        "\n",
        "year=\"2019\"\n",
        "\n",
        "# Select all signal in a index list to plot only this points\n",
        "idx_open = df.loc[df[\"position\"] == 1].loc[year].index\n",
        "idx_close = df.loc[df[\"position\"] == -1].loc[year].index\n",
        "\n",
        "\n",
        "\n",
        "# Adapt the size of the graph\n",
        "plt.figure(figsize=(15,6))\n",
        "\n",
        "# Plot the points of the open long signal in green and sell in red\n",
        "plt.scatter(idx_open, df.loc[idx_open][\"close\"].loc[year], color= \"#57CE95\", marker=\"^\")\n",
        "plt.scatter(idx_close, df.loc[idx_close][\"close\"].loc[year], color= \"red\", marker=\"v\")\n",
        "\n",
        "\n",
        "# Plot the resistance to be sure that the conditions are completed\n",
        "plt.plot(df[\"close\"].loc[year].index, df[\"close\"].loc[year], alpha=0.35)\n",
        "\n",
        "plt.plot(df[\"close\"].loc[year].index, df[\"SMA fast\"].loc[year], alpha=0.35)\n",
        "\n",
        "plt.plot(df[\"close\"].loc[year].index, df[\"SMA slow\"].loc[year], alpha=0.35)\n",
        "\n",
        "\n",
        "\n",
        "# Show the graph\n",
        "plt.show()"
      ]
    },
    {
      "attachments": {},
      "cell_type": "markdown",
      "metadata": {
        "id": "TTlUjMGwZbXM"
      },
      "source": [
        "# Compute the profit"
      ]
    },
    {
      "cell_type": "code",
      "execution_count": null,
      "metadata": {
        "colab": {
          "base_uri": "https://localhost:8080/",
          "height": 482
        },
        "id": "WJ9GTApON-wg",
        "outputId": "1a2c486c-7f78-400d-e2c0-11a5b4c42a9a"
      },
      "outputs": [],
      "source": [
        "# Compute the percentage of variation of the asset\n",
        "df[\"pct\"] = df[\"close\"].pct_change(1)\n",
        "\n",
        "# Compute the return of the strategy\n",
        "df[\"return\"] = df[\"pct\"] * df[\"position\"].shift(1)\n",
        "\n",
        "\n",
        "df[\"return\"].cumsum().plot(figsize=(15,8))"
      ]
    },
    {
      "cell_type": "code",
      "execution_count": null,
      "metadata": {
        "id": "N0WFjDEg_bpF"
      },
      "outputs": [],
      "source": [
        "# (1%, 3%, -1%, -2%, 2%, 3%) -- > (1%, 4%, 3%, 1%, 3%, 6%)"
      ]
    },
    {
      "attachments": {},
      "cell_type": "markdown",
      "metadata": {
        "id": "tiuSeAfuZgSZ"
      },
      "source": [
        "# Automatization"
      ]
    },
    {
      "cell_type": "code",
      "execution_count": null,
      "metadata": {
        "id": "q3N5UhQmPZ9w"
      },
      "outputs": [],
      "source": [
        "def SMA_strategy(input, mt5=False, yf=False):\n",
        "\n",
        "  if mt5:\n",
        "    df = preprocessing(input)\n",
        "  \n",
        "  if yf:\n",
        "    df = preprocessing_yf(input)\n",
        "\n",
        "  \n",
        "  # Create Resistance using a rolling max\n",
        "  df[\"SMA fast\"] = df[\"close\"].rolling(30).mean()\n",
        "\n",
        "  # Create Support using a rolling min\n",
        "  df[\"SMA slow\"] = df[\"close\"].rolling(60).mean()\n",
        "\n",
        "  df[\"position\"] = np.nan\n",
        "\n",
        "  # Create the condition\n",
        "  df.loc[(df[\"SMA fast\"] > df[\"SMA slow\"]) , \"position\"] = 1\n",
        "  df.loc[(df[\"SMA fast\"] < df[\"SMA slow\"]) , \"position\"] = -1\n",
        "\n",
        "  df[\"pct\"] = df[\"close\"].pct_change(1)\n",
        "\n",
        "  # Compute the return of the strategy\n",
        "\n",
        "  df[\"return\"] = df[\"pct\"] * (df[\"position\"].shift(1))\n",
        "  \n",
        "\n",
        "  return df[\"return\"]"
      ]
    },
    {
      "cell_type": "code",
      "execution_count": null,
      "metadata": {
        "colab": {
          "base_uri": "https://localhost:8080/",
          "height": 499
        },
        "id": "FMsMNNaeFIJO",
        "outputId": "36d3b985-c56a-4be1-8239-b3fdff2e1f3a"
      },
      "outputs": [],
      "source": [
        "SMA_strategy(\"EURUSD=X\", yf=True).cumsum().plot(figsize=(15,8))"
      ]
    },
    {
      "attachments": {},
      "cell_type": "markdown",
      "metadata": {
        "id": "905V5iOxCKtD"
      },
      "source": [
        "# Compare the strategy on different data"
      ]
    },
    {
      "cell_type": "code",
      "execution_count": null,
      "metadata": {
        "colab": {
          "base_uri": "https://localhost:8080/",
          "height": 482
        },
        "id": "BOnaKzP--M4m",
        "outputId": "b9cb9a87-062a-465f-a566-74a7fa84c066"
      },
      "outputs": [],
      "source": [
        "SMA_strategy(\"EURUSD_D1.csv\", mt5=True).cumsum().plot(figsize=(15,8))"
      ]
    },
    {
      "cell_type": "code",
      "execution_count": null,
      "metadata": {
        "colab": {
          "base_uri": "https://localhost:8080/",
          "height": 540
        },
        "id": "FdglnVIV-cZL",
        "outputId": "5e561b32-8768-4d5e-a907-edce4caeb327"
      },
      "outputs": [],
      "source": [
        "\n",
        "\n",
        "# Plot on graph\n",
        "\n",
        "# Adapt the size\n",
        "plt.figure(figsize=(20,8))\n",
        "\n",
        "# Plot the returns\n",
        "\n",
        "plt.plot(returns[\"Broker\"]*100, label=\"MetaTrader\")\n",
        "\n",
        "# Plot title + name axis \n",
        "plt.xlabel(\"Time\", size=15)\n",
        "plt.ylabel(\"Profits % \", size=15)\n",
        "plt.title(\"Difference between strategies on the same asset but using different data\", size=20)\n",
        "\n",
        "\n",
        "# Plot legend \n",
        "plt.legend()\n",
        "plt.show()"
      ]
    }
  ],
  "metadata": {
    "colab": {
      "name": "EN - BG Chapter 6: First trading Strategy.ipynb",
      "provenance": []
    },
    "kernelspec": {
      "display_name": "Python 3",
      "language": "python",
      "name": "python3"
    },
    "language_info": {
      "codemirror_mode": {
        "name": "ipython",
        "version": 3
      },
      "file_extension": ".py",
      "mimetype": "text/x-python",
      "name": "python",
      "nbconvert_exporter": "python",
      "pygments_lexer": "ipython3",
      "version": "3.11.1"
    },
    "vscode": {
      "interpreter": {
        "hash": "5375c6fca34c5f00efc2a1fb12328b4af153b74c7751f4a701371fb63dcb16d8"
      }
    }
  },
  "nbformat": 4,
  "nbformat_minor": 0
}
