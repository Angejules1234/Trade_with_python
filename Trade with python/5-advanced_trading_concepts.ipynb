{
  "cells": [
    {
      "attachments": {},
      "cell_type": "markdown",
      "metadata": {
        "id": "98e4Bkwx84cb"
      },
      "source": [
        "#Whats Hurst Exponent?\n",
        "\n",
        "The Hurst exponent is a statistic that helps to understand the behavior of a TimeSeries.\n",
        "\n",
        "* 0.5<Hurst <1: Trending movement\n",
        "* 0.5 = Hurst: Random walk\n",
        "* 0<Hurst<0.5: Antipersitent movement"
      ]
    },
    {
      "cell_type": "code",
      "execution_count": null,
      "metadata": {
        "colab": {
          "base_uri": "https://localhost:8080/"
        },
        "id": "Pc--RA397d9N",
        "outputId": "b4533bb2-0b5f-418d-92f1-0dc7d5aca8a6"
      },
      "outputs": [],
      "source": [
        "!pip install hurst\n",
        "!pip install yfinance"
      ]
    },
    {
      "cell_type": "code",
      "execution_count": null,
      "metadata": {
        "id": "Zb3Dwmh29SnT"
      },
      "outputs": [],
      "source": [
        "import numpy as np\n",
        "import pandas as pd\n",
        "\n",
        "import yfinance as yf\n",
        "from hurst import compute_Hc\n",
        "\n",
        "import warnings\n",
        "warnings.filterwarnings(\"ignore\")"
      ]
    },
    {
      "cell_type": "code",
      "execution_count": null,
      "metadata": {
        "id": "6UZHCuHM-NkY"
      },
      "outputs": [],
      "source": [
        "import matplotlib as mpl\n",
        "import matplotlib.pyplot as plt\n",
        "\n",
        "from matplotlib import cycler\n",
        "colors = cycler('color',\n",
        "                ['#669FEE', '#66EE91', '#9988DD',\n",
        "                 '#EECC55', '#88BB44', '#FFBBBB'])\n",
        "plt.rc('figure', facecolor='#313233')\n",
        "plt.rc('axes', facecolor=\"#313233\", edgecolor='none',\n",
        "       axisbelow=True, grid=True, prop_cycle=colors,\n",
        "       labelcolor='gray')\n",
        "plt.rc('grid', color='474A4A', linestyle='solid')\n",
        "plt.rc('xtick', color='gray')\n",
        "plt.rc('ytick', direction='out', color='gray')\n",
        "plt.rc('legend', facecolor=\"#313233\", edgecolor=\"#313233\")\n",
        "plt.rc(\"text\", color=\"#C9C9C9\")\n",
        "plt.rc('figure', facecolor='#313233')"
      ]
    },
    {
      "cell_type": "code",
      "execution_count": null,
      "metadata": {
        "colab": {
          "base_uri": "https://localhost:8080/",
          "height": 281
        },
        "id": "9PKsfyiE9yt1",
        "outputId": "1f8a028c-0333-4c2a-fdb4-868f0d0db4fd"
      },
      "outputs": [],
      "source": [
        "# Trending\n",
        "# Compute Hurst Exponent\n",
        "arr = np.linspace(0,300,150)+100\n",
        "hurst = compute_Hc(arr)[0]\n",
        "\n",
        "# Show the results\n",
        "plt.plot(arr)\n",
        "plt.title(f\"{hurst}\")\n",
        "plt.show()"
      ]
    },
    {
      "cell_type": "code",
      "execution_count": null,
      "metadata": {
        "colab": {
          "base_uri": "https://localhost:8080/",
          "height": 298
        },
        "id": "QSV-_1mv-I-5",
        "outputId": "82278d1e-8a10-42ec-d41c-d7564ead3511"
      },
      "outputs": [],
      "source": [
        "# Trending\n",
        "arr = yf.download(\"GOOG\")[\"Adj Close\"].dropna()\n",
        "hurst = compute_Hc(arr)[0]\n",
        "\n",
        "# Show the results\n",
        "plt.plot(arr)\n",
        "plt.title(f\"{hurst}\")\n",
        "plt.show()"
      ]
    },
    {
      "cell_type": "code",
      "execution_count": null,
      "metadata": {
        "colab": {
          "base_uri": "https://localhost:8080/",
          "height": 281
        },
        "id": "jotMVVVJ-Z6p",
        "outputId": "748c1d27-9da2-453d-a3b9-2438fab50140"
      },
      "outputs": [],
      "source": [
        "# Antipersistent\n",
        "# Compute Hurst Exponent\n",
        "arr = np.cos(np.linspace(0,300,150))\n",
        "hurst = compute_Hc(arr)[0]\n",
        "\n",
        "# Show the results\n",
        "plt.plot(arr)\n",
        "plt.title(f\"{hurst}\")\n",
        "plt.show()"
      ]
    },
    {
      "cell_type": "code",
      "execution_count": null,
      "metadata": {
        "colab": {
          "base_uri": "https://localhost:8080/",
          "height": 298
        },
        "id": "R-UITzV4-hyf",
        "outputId": "2d501af9-49d7-4be9-ca21-8027cde6f3ee"
      },
      "outputs": [],
      "source": [
        "# Antipersistent\n",
        "arr = yf.download(\"EURUSD=X\")[\"Adj Close\"].dropna()\n",
        "hurst = compute_Hc(arr)[0]\n",
        "\n",
        "# Show the results\n",
        "plt.plot(arr)\n",
        "plt.title(f\"{hurst}\")\n",
        "plt.show()"
      ]
    },
    {
      "cell_type": "code",
      "execution_count": null,
      "metadata": {
        "colab": {
          "base_uri": "https://localhost:8080/",
          "height": 281
        },
        "id": "mIYIOHoU-mse",
        "outputId": "e52f0501-f635-43fb-88b8-4416768d2392"
      },
      "outputs": [],
      "source": [
        "# Random\n",
        "# Compute Hurst Exponent\n",
        "np.random.seed(56)\n",
        "arr = np.cumsum(np.random.randn(150))\n",
        "hurst = compute_Hc(arr)[0]\n",
        "\n",
        "# Show the results\n",
        "plt.plot(arr)\n",
        "plt.title(f\"{hurst}\")\n",
        "plt.show()"
      ]
    },
    {
      "cell_type": "code",
      "execution_count": null,
      "metadata": {
        "colab": {
          "base_uri": "https://localhost:8080/",
          "height": 298
        },
        "id": "Lrv63f5m_A6U",
        "outputId": "9c1ad392-a812-453f-f7b7-d68fbfdbb563"
      },
      "outputs": [],
      "source": [
        "# Random\n",
        "arr = yf.download(\"CADGBP=X\")[\"Adj Close\"].dropna()\n",
        "hurst = compute_Hc(arr)[0]\n",
        "\n",
        "# Show the results\n",
        "plt.plot(arr)\n",
        "plt.title(f\"{hurst}\")\n",
        "plt.show()"
      ]
    },
    {
      "attachments": {},
      "cell_type": "markdown",
      "metadata": {
        "id": "Y3YxWfOq_0Zy"
      },
      "source": [
        "<p><img alt=\"Colaboratory logo\" src=\"https://www.quantreo.com/wp-content/uploads/2022/01/Capture-decran-2022-01-24-a-08.31.03.png\" align=\"left\" hspace=\"10px\" vspace=\"0px\"></p>"
      ]
    },
    {
      "cell_type": "code",
      "execution_count": null,
      "metadata": {
        "id": "uad9qRdF_MKL"
      },
      "outputs": [],
      "source": []
    }
  ],
  "metadata": {
    "colab": {
      "collapsed_sections": [],
      "name": "EN - BG Chapter 10 advanced trading concepts.ipynb",
      "provenance": []
    },
    "kernelspec": {
      "display_name": "Python 3",
      "name": "python3"
    },
    "language_info": {
      "name": "python"
    }
  },
  "nbformat": 4,
  "nbformat_minor": 0
}
