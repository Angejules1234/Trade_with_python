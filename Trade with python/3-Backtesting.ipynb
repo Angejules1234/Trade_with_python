{
  "cells": [
    {
      "attachments": {},
      "cell_type": "markdown",
      "metadata": {
        "id": "dBbjGbqrtFrj"
      },
      "source": [
        "### Environnement"
      ]
    },
    {
      "cell_type": "code",
      "execution_count": null,
      "metadata": {
        "colab": {
          "base_uri": "https://localhost:8080/"
        },
        "id": "Tjz98gQfs9T-",
        "outputId": "caf28d7f-3247-4c92-f86f-53c337d2c41c"
      },
      "outputs": [],
      "source": [
        "!pip install yfinance    "
      ]
    },
    {
      "cell_type": "code",
      "execution_count": null,
      "metadata": {
        "id": "TflLwK15qGcx"
      },
      "outputs": [],
      "source": [
        "import matplotlib as mpl\n",
        "import matplotlib.pyplot as plt\n",
        "import numpy as np\n",
        "import yfinance as yf\n",
        "import pandas as pd\n",
        "import warnings\n",
        "warnings.filterwarnings(\"ignore\")\n",
        "from matplotlib import cycler\n",
        "\n",
        "colors = cycler('color',\n",
        "                ['#669FEE', '#66EE91', '#9988DD',\n",
        "                 '#EECC55', '#88BB44', '#FFBBBB'])\n",
        "plt.rc('figure', facecolor='#313233')\n",
        "plt.rc('axes', facecolor=\"#313233\", edgecolor='none',\n",
        "       axisbelow=True, grid=True, prop_cycle=colors,\n",
        "       labelcolor='gray')\n",
        "plt.rc('grid', color='474A4A', linestyle='solid')\n",
        "plt.rc('xtick', color='gray')\n",
        "plt.rc('ytick', direction='out', color='gray')\n",
        "plt.rc('legend', facecolor=\"#313233\", edgecolor=\"#313233\")\n",
        "plt.rc(\"text\", color=\"#C9C9C9\")\n",
        "plt.rc('figure', facecolor='#313233')"
      ]
    },
    {
      "attachments": {},
      "cell_type": "markdown",
      "metadata": {
        "id": "hKMvnPIwslSn"
      },
      "source": [
        "Sortino Beta Alpha"
      ]
    },
    {
      "attachments": {},
      "cell_type": "markdown",
      "metadata": {
        "id": "MvSQJefks3OP"
      },
      "source": [
        "###### Sortino\n",
        "The sortino ratio is a statistic similar to the sharpe ratio with the same interpretation. However, the calculation is slightly different. Indeed, in the sortino ratio we only take into account the volatility of the negative gains because that is what we fear and not the bullish gains that make us earn money. \n",
        "$Sortino = \\frac{\\mu }{\\sigma_{down}}$\n",
        "\n",
        "\n",
        "*   SortinoRatio < 0 : Not profitable investissement because you gains is negative.\n",
        "*   SortinoRatio < 1 : Profitable investissement but the risk of the investissement is higher than the returns.\n",
        "*   SortinoRatio > 1: Very good investissement because the risk is lower than the returns.\n"
      ]
    },
    {
      "cell_type": "code",
      "execution_count": null,
      "metadata": {
        "colab": {
          "base_uri": "https://localhost:8080/"
        },
        "id": "m1Fuei6Ssmrk",
        "outputId": "435619dc-0ed9-456b-a040-90d0567397eb"
      },
      "outputs": [],
      "source": [
        "# Prepare the datas \n",
        "f = yf.download(\"GOOG\", end=\"2021-01-01\")\n",
        "return_serie = f[\"Adj Close\"].pct_change(1).dropna()\n",
        "return_serie.name = \"return\"\n",
        "\n",
        "# Compute the sortino\n",
        "mean = np.mean(return_serie) #252\n",
        "vol = np.std(return_serie[return_serie<0]) #sqrt(252)\n",
        "sortino = np.sqrt(252) * mean/vol\n",
        "\n",
        "print(f\"Sortino: {'%.3f' % sortino}\")"
      ]
    },
    {
      "attachments": {},
      "cell_type": "markdown",
      "metadata": {
        "id": "S2WSR_5vIAgR"
      },
      "source": [
        "###### Beta\n",
        "The beta is a statistic that indicates the relationship between the variations of our portfolio and those of the market which is represented by an index (for example SP500). <br>\n",
        "\n",
        "<p align=\"center\">\n",
        "$Beta = \\frac{Cov(r_{M},r_{PF}) }{Var(r_{M})}$\n",
        "<p> <br>\n",
        "\n",
        "\n",
        "\n",
        "*   abs(Beta) < 1: It is good because it means that your portfolio have a less variation than the index. (If beta=0.9 this means that if the index varies of 1 the portfolio varies by 0.9)\n",
        "*   abs(Beta) > 1: It is not a good thing because it means that your portfolio have a higher variation than the index. (If beta=1.1 this means that if the index varies of 1 the portfolio varies by 1.1)\n",
        "\n",
        "**abs(-x) = x = abs(x) (abs gives only the value of the variable not the sign)*\n"
      ]
    },
    {
      "cell_type": "code",
      "execution_count": null,
      "metadata": {
        "colab": {
          "base_uri": "https://localhost:8080/"
        },
        "id": "-lUE91pbHhwv",
        "outputId": "4fb1db68-4fac-4903-a450-4d074906ad15"
      },
      "outputs": [],
      "source": [
        "# We need compute the covariance between the marlet and the portfolio \n",
        "sp500 = yf.download(\"^GSPC\")[\"Adj Close\"].pct_change(1)\n",
        "sp500.name = \"SP500\"\n",
        "\n",
        "# We concate them to do the covariances\n",
        "val = pd.concat((return_serie, sp500), axis=1).dropna()\n",
        "\n",
        "# We compute beta \n",
        "cov_var_mat = np.cov(val.values, rowvar=False)\n",
        "cov = cov_var_mat[0][1]\n",
        "var = cov_var_mat[1][1]\n",
        "\n",
        "beta = cov/var\n",
        "\n",
        "print(f\"Beta: {'%.3f' % beta}\")"
      ]
    },
    {
      "attachments": {},
      "cell_type": "markdown",
      "metadata": {
        "id": "ecanIMv7KEg3"
      },
      "source": [
        "###### **Alpha**\n",
        "Alpha is a statistic that indicates whether the portfolio outperforms the market in terms of risk return. <br>\n",
        "\n",
        "<p align=\"center\">\n",
        "$Alpha = r_{PF} - \\beta*(r_{PF} - r_{f}) - r_{f}$\n",
        "<p> <br>\n",
        "\n",
        "\n",
        "*   alpha > 0: The portfolio outperforms the market in terms of risk return\n",
        "*   alpha < 0: The portfolio underperforms the market in terms of risk return\n"
      ]
    },
    {
      "cell_type": "code",
      "execution_count": null,
      "metadata": {
        "colab": {
          "base_uri": "https://localhost:8080/"
        },
        "id": "U3m9gBHCInQT",
        "outputId": "d9c256cd-4409-4a71-cb3a-803d75a33abf"
      },
      "outputs": [],
      "source": [
        "# We compute alpha \n",
        "alpha = (252 * mean * (1-beta))*100\n",
        "print(f\"Alpha: {'%.1f' % alpha}\")"
      ]
    },
    {
      "attachments": {},
      "cell_type": "markdown",
      "metadata": {
        "id": "jLkdFSptKhTk"
      },
      "source": [
        "# Drawdown\n",
        "\n"
      ]
    },
    {
      "cell_type": "code",
      "execution_count": null,
      "metadata": {
        "id": "SYIRBGgEKUPD"
      },
      "outputs": [],
      "source": [
        "def drawdown_function(serie):\n",
        "\n",
        "  # We compute Cumsum of the returns\n",
        "  cum = serie.dropna().cumsum() + 1\n",
        "\n",
        "  # We compute max of the cumsum on the period (accumulate max) # (1,3,5,3,1) --> (1,3,5,5,5)\n",
        "  running_max = np.maximum.accumulate(cum)\n",
        "\n",
        "  # We compute drawdown\n",
        "  drawdown = cum/running_max - 1\n",
        "  return drawdown"
      ]
    },
    {
      "cell_type": "code",
      "execution_count": null,
      "metadata": {
        "colab": {
          "base_uri": "https://localhost:8080/",
          "height": 54
        },
        "id": "AVF7wHtoLA9l",
        "outputId": "da3510d5-905e-4a35-a23f-6ae4caedd9db"
      },
      "outputs": [],
      "source": [
        "# We compute drawdown\n",
        "drawdown = drawdown_function(return_serie)\n",
        "\n",
        "# Adapt figure size\n",
        "plt.figure(figsize=(15,8))\n",
        "\n",
        "# Plot the drawdown\n",
        "plt.fill_between(drawdown.index, drawdown*100, 0,\n",
        "                 drawdown, color=\"#CE5757\", alpha=0.65)\n",
        "\n",
        "# Put a title\n",
        "plt.title(\"Drawdown\")\n",
        "\n",
        "# Put y label\n",
        "plt.ylabel(\"Drawdown in %\")\n",
        "\n",
        "plt.show()\n"
      ]
    },
    {
      "cell_type": "code",
      "execution_count": null,
      "metadata": {
        "colab": {
          "base_uri": "https://localhost:8080/"
        },
        "id": "82ms70tbMQvx",
        "outputId": "d920fb53-686f-4c19-9268-f6e9fbabdb6f"
      },
      "outputs": [],
      "source": [
        "# Computation Max drawdown\n",
        "max_drawdown = -np.min(drawdown)*100\n",
        "print(f\"Max drawdown: {'%.1f' % max_drawdown} %\")"
      ]
    },
    {
      "attachments": {},
      "cell_type": "markdown",
      "metadata": {
        "id": "pY-8oU31MiNr"
      },
      "source": [
        "# Create function BackTest to evaluate the strategy in the later sections"
      ]
    },
    {
      "cell_type": "code",
      "execution_count": null,
      "metadata": {
        "id": "62IR-tyILvXa"
      },
      "outputs": [],
      "source": [
        "def BackTest(serie, annualiazed_scalar=252):\n",
        "\n",
        "  # Import the benchmark\n",
        "  sp500 = yf.download(\"^GSPC\")[\"Adj Close\"].pct_change(1)\n",
        "  \n",
        "  # Change the name\n",
        "  sp500.name = \"SP500\"\n",
        "\n",
        "  # Concat the returns and the sp500\n",
        "  val = pd.concat((serie,sp500), axis=1).dropna()\n",
        "  # Compute the drawdown\n",
        "  drawdown = drawdown_function(serie)*100\n",
        "  \n",
        "  # Compute max drawdown\n",
        "  max_drawdown = -np.min(drawdown)\n",
        "\n",
        "\n",
        "\n",
        "\n",
        "  # Put a subplots\n",
        "  fig, (cum, dra) = plt.subplots(1,2, figsize=(20,6))\n",
        "  \n",
        "  # Put a Suptitle\n",
        "  fig.suptitle(\"Backtesting\", size=20)\n",
        "\n",
        "  # Returns cumsum chart\n",
        "  cum.plot(serie.cumsum()*100, color=\"#39B3C7\")\n",
        "\n",
        "  # SP500 cumsum chart\n",
        "  cum.plot(val[\"SP500\"].cumsum()*100, color=\"#B85A0F\")\n",
        "\n",
        "  # Put a legend\n",
        "  cum.legend([\"Portfolio\", \"SP500\"])\n",
        "  \n",
        "  # Set individual title\n",
        "  cum.set_title(\"Cumulative Return\", size=13)\n",
        "\n",
        "  cum.set_ylabel(\"Cumulative Return %\", size=11)\n",
        "\n",
        "  # Put the drawdown\n",
        "  dra.fill_between(drawdown.index,0,drawdown, color=\"#C73954\", alpha=0.65)\n",
        "\n",
        "  # Set individual title\n",
        "  dra.set_title(\"Drawdown\", size=13)\n",
        "\n",
        "  dra.set_ylabel(\"drawdown in %\", size=11)\n",
        "\n",
        "  # Plot the graph\n",
        "  plt.show()\n",
        "\n",
        "\n",
        "  # Compute the sortino\n",
        "  sortino = np.sqrt(annualiazed_scalar) * serie.mean()/serie.loc[serie<0].std()\n",
        "\n",
        "  # Compute the beta\n",
        "  beta = np.cov(val[[\"return\", \"SP500\"]].values,rowvar=False)[0][1] / np.var(val[\"SP500\"].values)\n",
        "\n",
        "  # Compute the alpha\n",
        "  alpha = annualiazed_scalar * (serie.mean() - beta*serie.mean())\n",
        "\n",
        "  # Print the statistics\n",
        "  print(f\"Sortino: {np.round(sortino,3)}\")\n",
        "  print(f\"Beta: {np.round(beta,3)}\")\n",
        "  print(f\"Alpha: {np.round(alpha*100,3)} %\")\n",
        "  print(f\"MaxDrawdown: {np.round(max_drawdown,3)} %\")"
      ]
    },
    {
      "cell_type": "code",
      "execution_count": null,
      "metadata": {
        "colab": {
          "base_uri": "https://localhost:8080/",
          "height": 502
        },
        "id": "5i9X9w_vgi_C",
        "outputId": "50c90b08-d336-4448-c83c-800e0e9bd2b6"
      },
      "outputs": [],
      "source": [
        "BackTest(return_serie, 252)"
      ]
    },
    {
      "attachments": {},
      "cell_type": "markdown",
      "metadata": {
        "id": "L1c5xbr7tLtP"
      },
      "source": [
        "##### APPLICATION"
      ]
    },
    {
      "cell_type": "code",
      "execution_count": null,
      "metadata": {
        "colab": {
          "base_uri": "https://localhost:8080/"
        },
        "id": "s6SatUobFTCI",
        "outputId": "6c4809c2-5f94-448d-e143-9444f436537d"
      },
      "outputs": [],
      "source": [
        "!pip install ta"
      ]
    },
    {
      "cell_type": "code",
      "execution_count": null,
      "metadata": {
        "id": "tFktNrSytNfH"
      },
      "outputs": [],
      "source": [
        "def SMA_strategy(input, mt5=False, yf=False):\n",
        "\n",
        "  if mt5:\n",
        "    df = preprocessing(input)\n",
        "  \n",
        "  if yf:\n",
        "    df = preprocessing_yf(input)\n",
        "\n",
        "  \n",
        "  # Create Resistance using a rolling max\n",
        "  df[\"SMA fast\"] = df[\"close\"].rolling(30).mean()\n",
        "\n",
        "  # Create Support using a rolling min\n",
        "  df[\"SMA slow\"] = df[\"close\"].rolling(60).mean()\n",
        "\n",
        "  df[\"position\"] = np.nan\n",
        "\n",
        "  # Create the condition\n",
        "  df.loc[(df[\"SMA fast\"] > df[\"SMA slow\"]) , \"position\"] = 1\n",
        "  df.loc[(df[\"SMA fast\"] < df[\"SMA slow\"]) , \"position\"] = -1\n",
        "\n",
        "  df[\"pct\"] = df[\"close\"].pct_change(1)\n",
        "\n",
        "  # Compute the return of the strategy\n",
        "\n",
        "  df[\"return\"] = df[\"pct\"] * (df[\"position\"].shift(1))\n",
        "  \n",
        "\n",
        "  return df[\"return\"]\n",
        "\n",
        "def preprocessing_yf(symbol):\n",
        "  \n",
        "  #Import the data\n",
        "  df = yf.download(\"EURUSD=X\").dropna()\n",
        "\n",
        "  #Rename\n",
        "  df.columns = [\"open\", \"high\", \"low\", \"close\", \"adj close\", \"volume\"]\n",
        "  df.index.name = \"time\"\n",
        "\n",
        "  # Remove adj close\n",
        "  del df[\"adj close\"]\n",
        "\n",
        "  return df\n",
        "\n",
        "def preprocessing(name):\n",
        "  \n",
        "  # Import the data\n",
        "  df = pd.read_csv(name, delimiter=\"\\t\", index_col=\"<DATE>\", parse_dates=True)\n",
        "\n",
        "  # Delete the two last columns\n",
        "  df = df.iloc[:,:-2]\n",
        "\n",
        "  # Rename\n",
        "  df.columns = [\"open\", \"high\", \"low\", \"close\", \"volume\"]\n",
        "  df.index.name = \"time\"\n",
        "\n",
        "  return df"
      ]
    },
    {
      "cell_type": "code",
      "execution_count": null,
      "metadata": {
        "colab": {
          "base_uri": "https://localhost:8080/",
          "height": 519
        },
        "id": "Q0oKJiBmNZzl",
        "outputId": "ae3566fd-f26c-4d3e-a454-d5e5f8c29c49"
      },
      "outputs": [],
      "source": [
        "#YAHOO\n",
        "dfc = SMA_strategy(\"EURUSD=X\", yf=True).loc[\"2012\":]-0.00001\n",
        "\n",
        "BackTest(dfc, 252)"
      ]
    },
    {
      "cell_type": "code",
      "execution_count": null,
      "metadata": {
        "colab": {
          "base_uri": "https://localhost:8080/",
          "height": 502
        },
        "id": "qT70uw6zPoMA",
        "outputId": "48466cb4-787b-46e8-cfc5-7dc455b80808"
      },
      "outputs": [],
      "source": [
        "#MT5\n",
        "dfc = SMA_strategy(\"EURUSD_D1.csv\", mt5=True).loc[\"2012\":]-0.00001\n",
        "\n",
        "BackTest(dfc.fillna(value=0), 252)"
      ]
    },
    {
      "cell_type": "code",
      "execution_count": null,
      "metadata": {
        "id": "ufjf76OAP7b-"
      },
      "outputs": [],
      "source": []
    }
  ],
  "metadata": {
    "colab": {
      "name": "EN - BG Chapter 07 Vectorized Backtesting.ipynb",
      "provenance": []
    },
    "kernelspec": {
      "display_name": "Python 3",
      "name": "python3"
    },
    "language_info": {
      "name": "python"
    }
  },
  "nbformat": 4,
  "nbformat_minor": 0
}
