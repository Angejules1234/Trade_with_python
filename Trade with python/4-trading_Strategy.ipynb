{
  "cells": [
    {
      "cell_type": "code",
      "execution_count": null,
      "metadata": {
        "colab": {
          "base_uri": "https://localhost:8080/"
        },
        "id": "SELynRZH3hfA",
        "outputId": "93d24d9d-d5cd-4a5d-f56c-cf8114a82901"
      },
      "outputs": [],
      "source": [
        "!pip install yfinance\n",
        "!pip install ta"
      ]
    },
    {
      "cell_type": "code",
      "execution_count": null,
      "metadata": {
        "id": "vjIltp4XqmxX"
      },
      "outputs": [],
      "source": [
        "import numpy as np\n",
        "import pandas as pd\n",
        "import yfinance as yf\n",
        "import warnings\n",
        "import ta\n",
        "warnings.filterwarnings(\"ignore\")"
      ]
    },
    {
      "cell_type": "code",
      "execution_count": null,
      "metadata": {
        "id": "xBnTuK574blN"
      },
      "outputs": [],
      "source": [
        "# The code here will allow you to switch your graphics to dark mode for those who choose to code in dark mode\n",
        "import matplotlib.pyplot as plt\n",
        "\n",
        "import matplotlib as mpl\n",
        "from matplotlib import cycler\n",
        "colors = cycler('color',\n",
        "                ['#669FEE', '#66EE91', '#9988DD',\n",
        "                 '#EECC55', '#88BB44', '#FFBBBB'])\n",
        "plt.rc('figure', facecolor='#313233')\n",
        "plt.rc('axes', facecolor=\"#313233\", edgecolor='none',\n",
        "       axisbelow=True, grid=True, prop_cycle=colors,\n",
        "       labelcolor='gray')\n",
        "plt.rc('grid', color='474A4A', linestyle='solid')\n",
        "plt.rc('xtick', color='gray')\n",
        "plt.rc('ytick', direction='out', color='gray')\n",
        "plt.rc('legend', facecolor=\"#313233\", edgecolor=\"#313233\")\n",
        "plt.rc(\"text\", color=\"#C9C9C9\")"
      ]
    },
    {
      "attachments": {},
      "cell_type": "markdown",
      "metadata": {
        "id": "ojd6NbD3Us06"
      },
      "source": [
        "# Manage the data"
      ]
    },
    {
      "cell_type": "code",
      "execution_count": null,
      "metadata": {
        "id": "3nkP0bhO4pMq"
      },
      "outputs": [],
      "source": [
        "# Preprocessing function\n",
        "\n",
        "def preprocessing(name):\n",
        "  \n",
        "  # Import the data\n",
        "  df = pd.read_csv(name, delimiter=\"\\t\", index_col=\"<DATE>\", parse_dates=True)\n",
        "\n",
        "  # Delete the two last columns\n",
        "  df = df.iloc[:,:-2]\n",
        "\n",
        "  # Rename\n",
        "  df.columns = [\"open\", \"high\", \"low\", \"close\", \"volume\"]\n",
        "  df.index.name = \"time\"\n",
        "\n",
        "  return df"
      ]
    },
    {
      "cell_type": "code",
      "execution_count": null,
      "metadata": {
        "colab": {
          "base_uri": "https://localhost:8080/",
          "height": 467
        },
        "id": "CAfQp8Jc4D5M",
        "outputId": "cc71e45b-69d3-4bd4-f92d-603129286b69"
      },
      "outputs": [],
      "source": [
        "def preprocessing_yf(symbol):\n",
        "  \n",
        "  #Import the data\n",
        "  df = yf.download(\"EURUSD=X\").dropna()\n",
        "\n",
        "  #Rename\n",
        "  df.columns = [\"open\", \"high\", \"low\", \"close\", \"adj close\", \"volume\"]\n",
        "  df.index.name = \"time\"\n",
        "\n",
        "  # Remove adj close\n",
        "  del df[\"adj close\"]\n",
        "\n",
        "  return df\n",
        "df = preprocessing_yf(\"EURUSD=X\")\n",
        "df"
      ]
    },
    {
      "attachments": {},
      "cell_type": "markdown",
      "metadata": {
        "id": "iqdNQiEkWWPr"
      },
      "source": [
        "# Moving average /RSI"
      ]
    },
    {
      "cell_type": "code",
      "execution_count": null,
      "metadata": {
        "id": "8j93JH03_vjV"
      },
      "outputs": [],
      "source": [
        "# Create Resistance using a rolling max\n",
        "df[\"SMA fast\"] = df[\"close\"].rolling(30).mean()\n",
        "\n",
        "# Create Support using a rolling min\n",
        "df[\"SMA slow\"] = df[\"close\"].rolling(60).mean()\n",
        "\n",
        "\n",
        "# Create RSI\n",
        "df[\"rsi\"] = ta.momentum.RSIIndicator(df[\"close\"], window=10).rsi()"
      ]
    },
    {
      "cell_type": "code",
      "execution_count": null,
      "metadata": {
        "colab": {
          "base_uri": "https://localhost:8080/",
          "height": 525
        },
        "id": "YCy5F6kkD2fL",
        "outputId": "61a4de97-f216-46b2-c54e-36ea709c91c5"
      },
      "outputs": [],
      "source": [
        "# Plot the results\n",
        "df[[\"close\", \"SMA fast\", \"SMA slow\"]].loc[\"2020\"].plot(figsize=(15,8))"
      ]
    },
    {
      "cell_type": "code",
      "execution_count": null,
      "metadata": {
        "colab": {
          "base_uri": "https://localhost:8080/",
          "height": 527
        },
        "id": "wxm5HU5GC_M1",
        "outputId": "d4d1ee74-9451-4d56-8a99-e11c4bedfbe2"
      },
      "outputs": [],
      "source": [
        "df[\"rsi\"].loc[\"2020\"].plot(figsize=(15,8))"
      ]
    },
    {
      "attachments": {},
      "cell_type": "markdown",
      "metadata": {
        "id": "egkAZjEbYSFh"
      },
      "source": [
        "# Strategy"
      ]
    },
    {
      "cell_type": "code",
      "execution_count": null,
      "metadata": {
        "id": "AmVVgjGNYWga"
      },
      "outputs": [],
      "source": [
        "df[\"position\"] = 0\n",
        "\n",
        "# RSI yersteday\n",
        "df[\"rsi yersteday\"] = df[\"rsi\"].shift(1)\n",
        "\n",
        "# Conditions\n",
        "condition_1_buy = df[\"SMA fast\"] > df[\"SMA slow\"]\n",
        "condition_2_buy = df[\"rsi\"] < df[\"rsi yersteday\"]\n",
        "\n",
        "condition_1_sell = df[\"SMA fast\"] < df[\"SMA slow\"]\n",
        "condition_2_sell = df[\"rsi\"] > df[\"rsi yersteday\"]\n",
        "\n",
        "# Create the condition\n",
        "df.loc[condition_1_buy & condition_2_buy, \"position\"] = 1\n",
        "df.loc[condition_1_sell & condition_2_sell, \"position\"] = -1"
      ]
    },
    {
      "attachments": {},
      "cell_type": "markdown",
      "metadata": {
        "id": "AlLEpBVQZQBE"
      },
      "source": [
        "# Verification Graph"
      ]
    },
    {
      "cell_type": "code",
      "execution_count": null,
      "metadata": {
        "colab": {
          "base_uri": "https://localhost:8080/",
          "height": 840
        },
        "id": "SP0OQw4vPOSp",
        "outputId": "3fbbec5e-dac2-4f5b-b3ba-b8f2a38a0e81"
      },
      "outputs": [],
      "source": [
        "# We plot all the signla to be sure that they be correct\n",
        "\n",
        "year=\"2019-01\"\n",
        "\n",
        "# Select all signal in a index list to plot only this points\n",
        "idx_open = df.loc[df[\"position\"] == 1].loc[year].index\n",
        "idx_close = df.loc[df[\"position\"] == -1].loc[year].index\n",
        "\n",
        "\n",
        "\n",
        "# Adapt the size of the graph\n",
        "plt.figure(figsize=(15,6))\n",
        "\n",
        "# Plot the points of the open long signal in green and sell in red\n",
        "plt.scatter(idx_open, df.loc[idx_open][\"close\"].loc[year], color= \"#57CE95\", marker=\"^\")\n",
        "plt.scatter(idx_close, df.loc[idx_close][\"close\"].loc[year], color= \"red\", marker=\"v\")\n",
        "\n",
        "\n",
        "# Plot the resistance to be sure that the conditions are completed\n",
        "plt.plot(df[\"close\"].loc[year].index, df[\"close\"].loc[year], alpha=0.35)\n",
        "\n",
        "plt.plot(df[\"close\"].loc[year].index, df[\"SMA fast\"].loc[year], alpha=0.35)\n",
        "\n",
        "plt.plot(df[\"close\"].loc[year].index, df[\"SMA slow\"].loc[year], alpha=0.35)\n",
        "\n",
        "\n",
        "\n",
        "# Show the graph\n",
        "plt.show()\n",
        "plt.close()\n",
        "\n",
        "\n",
        "plt.figure(figsize=(15,8))\n",
        "plt.scatter(idx_open, df.loc[idx_open][\"rsi\"].loc[year], color= \"#57CE95\", marker=\"^\")\n",
        "plt.scatter(idx_close, df.loc[idx_close][\"rsi\"].loc[year], color= \"red\", marker=\"v\")\n",
        "\n",
        "plt.plot(df[\"rsi\"].loc[year].index, df[\"rsi\"].loc[year], alpha=0.35)\n",
        "\n",
        "plt.show()"
      ]
    },
    {
      "attachments": {},
      "cell_type": "markdown",
      "metadata": {
        "id": "TTlUjMGwZbXM"
      },
      "source": [
        "# Compute the profit"
      ]
    },
    {
      "cell_type": "code",
      "execution_count": null,
      "metadata": {
        "colab": {
          "base_uri": "https://localhost:8080/",
          "height": 482
        },
        "id": "WJ9GTApON-wg",
        "outputId": "371f1b52-f527-457f-8a41-1e5dc0f5b2ab"
      },
      "outputs": [],
      "source": [
        "# Compute the percentage of variation of the asset\n",
        "df[\"pct\"] = df[\"close\"].pct_change(1)\n",
        "\n",
        "# Compute the return of the strategy\n",
        "df[\"return\"] = df[\"pct\"] * (df[\"position\"].shift(1))\n",
        "\n",
        "df[\"return\"].cumsum().plot(figsize=(15,8))\n"
      ]
    },
    {
      "attachments": {},
      "cell_type": "markdown",
      "metadata": {
        "id": "yOzuNzqFT3I0"
      },
      "source": [
        "# Add Stop loss\n"
      ]
    },
    {
      "cell_type": "code",
      "execution_count": null,
      "metadata": {
        "id": "2F2Qr7VZT2gn"
      },
      "outputs": [],
      "source": [
        "# % = (SV - EV) / EV\n",
        "df[\"Min\"] = (df[\"low\"] - df[\"close\"].shift(1)) / df[\"close\"].shift(1)"
      ]
    },
    {
      "cell_type": "code",
      "execution_count": null,
      "metadata": {
        "colab": {
          "base_uri": "https://localhost:8080/",
          "height": 523
        },
        "id": "QmT-xLFFU91z",
        "outputId": "53649436-af9e-4fe3-f46f-d4c885e18c00"
      },
      "outputs": [],
      "source": [
        "# -------- Prepare the data ----------\n",
        "# Remove missing values and order them\n",
        "dfh = df[[\"Min\"]].loc[\"2005\":\"2015\"].dropna().sort_values(by=\"Min\", ascending=True)\n",
        "\n",
        "dfh.loc[df[\"Min\"]<-0.3] = 0\n",
        "\n",
        "# Weight for each value\n",
        "dfh[\"probability\"] = 1/len(dfh)\n",
        "\n",
        "\n",
        "# -------- Plot the graph ----------\n",
        "# Adapt the size\n",
        "plt.figure(figsize=(20,8))\n",
        "\n",
        "# Put a ylabel\n",
        "plt.ylabel(\"P(X<x)\", size=15)\n",
        "\n",
        "# Put a xlabel\n",
        "plt.xlabel(\"Strategy's daily low in %\", size=15)\n",
        "\n",
        "# Put a title\n",
        "plt.title(\"CDF of the daily low\", size=20)\n",
        "\n",
        "# Plot the line of the CDF\n",
        "plt.plot(dfh[\"Min\"]*100, dfh[\"probability\"].cumsum(), color=\"#AB371E\")\n",
        "\n",
        "# Plot the area of the CDF\n",
        "plt.fill_between(dfh[\"Min\"]*100,0, dfh[\"probability\"].cumsum(), color=\"#AB371E\", alpha=0.35)\n",
        "\n",
        "# Define x limits\n",
        "plt.xlim([-3.5, 0])\n",
        "\n",
        "# Plot the graph\n",
        "plt.show()"
      ]
    },
    {
      "cell_type": "code",
      "execution_count": null,
      "metadata": {
        "colab": {
          "base_uri": "https://localhost:8080/",
          "height": 450
        },
        "id": "npicl9SlD4ia",
        "outputId": "ae79db08-8cd6-411e-92dd-1e98aa34f8cd"
      },
      "outputs": [],
      "source": [
        "dfh"
      ]
    },
    {
      "cell_type": "code",
      "execution_count": null,
      "metadata": {
        "id": "T_tb6uQe_v80"
      },
      "outputs": [],
      "source": [
        "df[\"return SL\"] = df[\"return\"]\n",
        "sl = 0.10\n",
        "df.loc[df[\"Min\"]<-sl, \"return SL\"] = -sl"
      ]
    },
    {
      "cell_type": "code",
      "execution_count": null,
      "metadata": {
        "colab": {
          "base_uri": "https://localhost:8080/",
          "height": 482
        },
        "id": "rmOcHPAuIheK",
        "outputId": "cb1920e9-57d6-4f14-d6d4-5ddda69be846"
      },
      "outputs": [],
      "source": [
        "# Train \n",
        "df[\"return\"].loc[:\"2015\"].cumsum().plot(figsize=(15,8))\n",
        "df[\"return SL\"].loc[:\"2015\"].cumsum().plot(figsize=(15,8), color=\"red\")"
      ]
    },
    {
      "cell_type": "code",
      "execution_count": null,
      "metadata": {
        "colab": {
          "base_uri": "https://localhost:8080/",
          "height": 482
        },
        "id": "I2M8AZucAccj",
        "outputId": "d67a4ded-8aba-410f-e838-229ad6cf956d"
      },
      "outputs": [],
      "source": [
        "# Test \n",
        "df[\"return\"].loc[\"2015\":].cumsum().plot(figsize=(15,8))\n",
        "df[\"return SL\"].loc[\"2015\":].cumsum().plot(figsize=(15,8), color=\"red\")\n"
      ]
    },
    {
      "attachments": {},
      "cell_type": "markdown",
      "metadata": {
        "id": "tiuSeAfuZgSZ"
      },
      "source": [
        "# Automatization"
      ]
    },
    {
      "cell_type": "code",
      "execution_count": null,
      "metadata": {
        "id": "q3N5UhQmPZ9w"
      },
      "outputs": [],
      "source": [
        "def preprocessing_yf(symbol):\n",
        "  df = yf.download(symbol).dropna()\n",
        "  df.columns = [\"open\", \"high\", \"low\", \"close\", \"adj close\", \"volume\"]\n",
        "  return df\n",
        "\n",
        "def preprocessing(name):\n",
        "\n",
        "  # Import the data\n",
        "  df = pd.read_csv(f\"{name}\", delimiter=\"\\t\", index_col=\"<DATE>\", parse_dates=True)\n",
        "\n",
        "  # Delete the two last columns\n",
        "  df = df.iloc[:,:-2]\n",
        "\n",
        "  # Rename\n",
        "  df.columns = [\"open\", \"high\", \"low\", \"close\", \"volume\"]\n",
        "  df.index.name = \"name\"\n",
        "\n",
        "  return df\n",
        "  \n",
        "def SMA_strategy(input, mt5=False, yf=False):\n",
        "\n",
        "  if mt5:\n",
        "    df = preprocessing(input)\n",
        "  \n",
        "  if yf:\n",
        "    df = preprocessing_yf(input)\n",
        "\n",
        "  \n",
        "  # Create Resistance using a rolling max\n",
        "  df[\"SMA fast\"] = df[\"close\"].rolling(30).mean()\n",
        "\n",
        "  # Create Support using a rolling min\n",
        "  df[\"SMA slow\"] = df[\"close\"].rolling(60).mean()\n",
        "\n",
        "  # Create RSI\n",
        "  df[\"rsi\"] = ta.momentum.RSIIndicator(df[\"close\"], window=10).rsi()\n",
        "\n",
        "\n",
        "  df[\"position\"] = 0\n",
        "\n",
        "  df[\"rsi yersteday\"] = df[\"rsi\"].shift(1)\n",
        "  # Create the condition\n",
        "  df.loc[(df[\"SMA fast\"] > df[\"SMA slow\"]) & (df[\"rsi\"] < df[\"rsi yersteday\"]), \"position\"] = 1\n",
        "  df.loc[(df[\"SMA fast\"] < df[\"SMA slow\"]) & (df[\"rsi\"] > df[\"rsi yersteday\"]), \"position\"] = -1\n",
        "\n",
        "  \n",
        "\n",
        "  df[\"pct\"] = df[\"close\"].pct_change(1)\n",
        "\n",
        "  # Compute the return of the strategy\n",
        "\n",
        "  df[\"return\"] = df[\"pct\"] * (df[\"position\"].shift(1))\n",
        "  \n",
        "\n",
        "  return df[\"return\"]"
      ]
    },
    {
      "cell_type": "code",
      "execution_count": null,
      "metadata": {
        "colab": {
          "base_uri": "https://localhost:8080/",
          "height": 499
        },
        "id": "FMsMNNaeFIJO",
        "outputId": "270511b7-ad38-45e8-c775-623d0a335d6c"
      },
      "outputs": [],
      "source": [
        "SMA_strategy(\"EURUSD=X\", yf=True).cumsum().plot(figsize=(15,8))"
      ]
    },
    {
      "cell_type": "code",
      "execution_count": null,
      "metadata": {
        "colab": {
          "base_uri": "https://localhost:8080/",
          "height": 482
        },
        "id": "BOnaKzP--M4m",
        "outputId": "c329cddc-44b7-43bf-8987-47731a0f922c"
      },
      "outputs": [],
      "source": [
        "SMA_strategy(\"EURUSD_D1.csv\", mt5=True).cumsum().plot(figsize=(15,8))"
      ]
    },
    {
      "cell_type": "code",
      "execution_count": null,
      "metadata": {
        "colab": {
          "base_uri": "https://localhost:8080/",
          "height": 471
        },
        "id": "FdglnVIV-cZL",
        "outputId": "9f630b69-67a7-4259-d3c5-a2cc8c097e31"
      },
      "outputs": [],
      "source": [
        "# Same strategy but with different assets\n",
        "yahoo = SMA_strategy(\"EURUSD=X\", yf=True)\n",
        "metatrader = SMA_strategy(\"EURUSD_D1.csv\", mt5=True)\n",
        "\n",
        "returns = pd.DataFrame([yahoo, metatrader], index=[\"Yahoo\",\n",
        "                                                   \"Broker\"]).transpose().dropna().cumsum(axis=0)\n",
        "\n",
        "# Plot on graph\n",
        "\n",
        "# Adapt the size\n",
        "plt.figure(figsize=(20,8))\n",
        "\n",
        "# Plot the returns\n",
        "plt.plot(returns[\"Yahoo\"]*100, label=\"Yahoo\")\n",
        "plt.plot(returns[\"Broker\"]*100, label=\"MetaTrader\")\n",
        "\n",
        "# Plot title + name axis \n",
        "plt.xlabel(\"Time\", size=15)\n",
        "plt.ylabel(\"Profits % \", size=15)\n",
        "plt.title(\"Difference between strategies on the same asset but using different data\", size=20)\n",
        "\n",
        "\n",
        "# Plot legend \n",
        "plt.legend()\n",
        "plt.show()"
      ]
    },
    {
      "attachments": {},
      "cell_type": "markdown",
      "metadata": {
        "id": "h6xUUZXeKJp4"
      },
      "source": [
        "# Portfolio"
      ]
    },
    {
      "cell_type": "code",
      "execution_count": null,
      "metadata": {
        "colab": {
          "base_uri": "https://localhost:8080/",
          "height": 1000
        },
        "id": "qcZuIlGeFrYX",
        "outputId": "c9689ebf-4653-4d02-b036-204836e806ef"
      },
      "outputs": [],
      "source": [
        "namelist = [\"GOOG\", \"MSFT\", \"BTC-USD\", \"ETH-USD\", \"EURUSD=X\", \"GBPCAD=X\"]\n",
        "returns = []\n",
        "for name in namelist:\n",
        "  ret = SMA_strategy(name, yf=True)\n",
        "  returns.append(ret)\n",
        "  ret.cumsum().plot(figsize=(15,8))\n",
        "  plt.show()\n",
        "  plt.close()"
      ]
    },
    {
      "cell_type": "code",
      "execution_count": null,
      "metadata": {
        "id": "NhdNd_NiGMd9"
      },
      "outputs": [],
      "source": [
        "pf = pd.DataFrame(returns, index=namelist).transpose().dropna()"
      ]
    },
    {
      "cell_type": "code",
      "execution_count": null,
      "metadata": {
        "colab": {
          "base_uri": "https://localhost:8080/",
          "height": 294
        },
        "id": "y6YzGPAkGW6_",
        "outputId": "0bc37743-135b-4ae5-d2a1-2740fc779c7c"
      },
      "outputs": [],
      "source": [
        "ret_pf = (pf.sum(axis=1)/len(namelist))\n",
        "ret_pf.name=\"return\"\n",
        "ret_pf.cumsum(axis=0).plot()"
      ]
    },
    {
      "cell_type": "code",
      "execution_count": null,
      "metadata": {
        "id": "GvpEzN8lHFur"
      },
      "outputs": [],
      "source": [
        "def drawdown_function(serie):\n",
        "\n",
        "  # We compute Cumsum of the returns\n",
        "  cum = serie.dropna().cumsum() + 1\n",
        "\n",
        "  # We compute max of the cumsum on the period (accumulate max) # (1,3,5,3,1) --> (1,3,5,5,5)\n",
        "  running_max = np.maximum.accumulate(cum)\n",
        "\n",
        "  # We compute drawdown\n",
        "  drawdown = cum/running_max - 1\n",
        "  return drawdown\n",
        "def BackTest(serie, annualiazed_scalar=252):\n",
        "\n",
        "  # Import the benchmark\n",
        "  sp500 = yf.download(\"^GSPC\")[\"Adj Close\"].pct_change(1)\n",
        "  \n",
        "  # Change the name\n",
        "  sp500.name = \"SP500\"\n",
        "\n",
        "  # Concat the returns and the sp500\n",
        "  val = pd.concat((serie,sp500), axis=1).dropna()\n",
        "  # Compute the drawdown\n",
        "  drawdown = drawdown_function(serie)*100\n",
        "  \n",
        "  # Compute max drawdown\n",
        "  max_drawdown = -np.min(drawdown)\n",
        "\n",
        "\n",
        "\n",
        "\n",
        "  # Put a subplots\n",
        "  fig, (cum, dra) = plt.subplots(1,2, figsize=(20,6))\n",
        "  \n",
        "  # Put a Suptitle\n",
        "  fig.suptitle(\"Backtesting\", size=20)\n",
        "\n",
        "  # Returns cumsum chart\n",
        "  cum.plot(serie.cumsum()*100, color=\"#39B3C7\")\n",
        "\n",
        "  # SP500 cumsum chart\n",
        "  cum.plot(val[\"SP500\"].cumsum()*100, color=\"#B85A0F\")\n",
        "\n",
        "  # Put a legend\n",
        "  cum.legend([\"Portfolio\", \"SP500\"])\n",
        "  \n",
        "  # Set individual title\n",
        "  cum.set_title(\"Cumulative Return\", size=13)\n",
        "\n",
        "  cum.set_ylabel(\"Cumulative Return %\", size=11)\n",
        "\n",
        "  # Put the drawdown\n",
        "  dra.fill_between(drawdown.index,0,drawdown, color=\"#C73954\", alpha=0.65)\n",
        "\n",
        "  # Set individual title\n",
        "  dra.set_title(\"Drawdown\", size=13)\n",
        "\n",
        "  dra.set_ylabel(\"drawdown in %\", size=11)\n",
        "\n",
        "  # Plot the graph\n",
        "  plt.show()\n",
        "\n",
        "\n",
        "  # Compute the sortino\n",
        "  sortino = np.sqrt(annualiazed_scalar) * serie.mean()/serie.loc[serie<0].std()\n",
        "\n",
        "  # Compute the beta\n",
        "  beta = np.cov(val[[\"return\", \"SP500\"]].values,rowvar=False)[0][1] / np.var(val[\"SP500\"].values)\n",
        "\n",
        "  # Compute the alpha\n",
        "  alpha = annualiazed_scalar * (serie.mean() - beta*serie.mean())\n",
        "\n",
        "  # Print the statistics\n",
        "  print(f\"Sortino: {np.round(sortino,3)}\")\n",
        "  print(f\"Beta: {np.round(beta,3)}\")\n",
        "  print(f\"Alpha: {np.round(alpha*100,3)} %\")\n",
        "  print(f\"MaxDrawdown: {np.round(max_drawdown,3)} %\")"
      ]
    },
    {
      "cell_type": "code",
      "execution_count": null,
      "metadata": {
        "colab": {
          "base_uri": "https://localhost:8080/",
          "height": 451
        },
        "id": "9tClKN8YHK54",
        "outputId": "41559365-ebf6-45b9-b161-64fadd472625"
      },
      "outputs": [],
      "source": [
        "BackTest(ret_pf)"
      ]
    }
  ],
  "metadata": {
    "colab": {
      "collapsed_sections": [],
      "name": "EN - BG Chapter 9: Intermediate trading Strategy.ipynb",
      "provenance": []
    },
    "kernelspec": {
      "display_name": "Python 3",
      "name": "python3"
    },
    "language_info": {
      "name": "python"
    }
  },
  "nbformat": 4,
  "nbformat_minor": 0
}
