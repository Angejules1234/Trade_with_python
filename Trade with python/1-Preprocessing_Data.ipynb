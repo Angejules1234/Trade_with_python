{
  "cells": [
    {
      "cell_type": "code",
      "execution_count": null,
      "metadata": {
        "colab": {
          "base_uri": "https://localhost:8080/",
          "height": 650
        },
        "id": "SELynRZH3hfA",
        "outputId": "5892e5cc-4318-4d41-cad3-a224230d085f"
      },
      "outputs": [],
      "source": [
        "!pip install yfinance"
      ]
    },
    {
      "cell_type": "code",
      "execution_count": null,
      "metadata": {
        "id": "vjIltp4XqmxX"
      },
      "outputs": [],
      "source": [
        "import numpy as np\n",
        "import pandas as pd\n",
        "import yfinance as yf\n",
        "import warnings\n",
        "warnings.filterwarnings(\"ignore\")"
      ]
    },
    {
      "cell_type": "markdown",
      "metadata": {
        "id": "ojd6NbD3Us06"
      },
      "source": [
        "# Manage the data which come from MT5 (manually)\n"
      ]
    },
    {
      "cell_type": "code",
      "execution_count": null,
      "metadata": {
        "colab": {
          "base_uri": "https://localhost:8080/",
          "height": 419
        },
        "id": "I0G5yH4B4kQM",
        "outputId": "2a698bac-e997-4b41-dd6d-6e43a7c5681c"
      },
      "outputs": [],
      "source": [
        "# Import brut data\n",
        "df = pd.read_csv(\"EURUSD_D1.csv\")\n",
        "df"
      ]
    },
    {
      "cell_type": "code",
      "execution_count": null,
      "metadata": {
        "colab": {
          "base_uri": "https://localhost:8080/",
          "height": 419
        },
        "id": "l5Yw3s0KVNBJ",
        "outputId": "60e2fb53-5e93-423b-fc5b-36fcfb3b57ab"
      },
      "outputs": [],
      "source": [
        "# Add the delimiter\n",
        "df = pd.read_csv(\"EURUSD_D1.csv\", delimiter=\"\\t\")\n",
        "df"
      ]
    },
    {
      "cell_type": "code",
      "execution_count": null,
      "metadata": {
        "id": "3nkP0bhO4pMq"
      },
      "outputs": [],
      "source": [
        "# Preprocessing function\n",
        "\n",
        "def preprocessing(name):\n",
        "  \n",
        "  # Import the data\n",
        "  df = pd.read_csv(name, delimiter=\"\\t\", index_col=\"<DATE>\", parse_dates=True).dropna()\n",
        "\n",
        "  # Delete the two last columns\n",
        "  df = df.iloc[:,:-2]\n",
        "\n",
        "  # Rename\n",
        "  df.columns = [\"open\", \"high\", \"low\", \"close\", \"volume\"]\n",
        "  df.index.name = \"time\"\n",
        "\n",
        "  return df"
      ]
    },
    {
      "cell_type": "code",
      "execution_count": null,
      "metadata": {
        "colab": {
          "base_uri": "https://localhost:8080/",
          "height": 450
        },
        "id": "vIxzE2pJ-l0a",
        "outputId": "ad4dae8d-f656-4d03-b9c9-6a06638fd2cb"
      },
      "outputs": [],
      "source": [
        "df = preprocessing(\"EURUSD_D1.csv\")\n",
        "df"
      ]
    },
    {
      "cell_type": "markdown",
      "metadata": {
        "id": "d5kArxfa4And"
      },
      "source": [
        "# Manage the data which come from Yfinance\n"
      ]
    },
    {
      "cell_type": "code",
      "execution_count": null,
      "metadata": {
        "colab": {
          "base_uri": "https://localhost:8080/",
          "height": 467
        },
        "id": "3zel86pF1CIu",
        "outputId": "f5add25e-8fc3-49e6-f3c1-5f214c738332"
      },
      "outputs": [],
      "source": [
        "yf.download(\"EURUSD=X\")"
      ]
    },
    {
      "cell_type": "code",
      "execution_count": null,
      "metadata": {
        "colab": {
          "base_uri": "https://localhost:8080/",
          "height": 467
        },
        "id": "CAfQp8Jc4D5M",
        "outputId": "e6df1b11-ee05-4702-919f-8d12edbe054a"
      },
      "outputs": [],
      "source": [
        "def preprocessing_yf(symbol):\n",
        "  \n",
        "  #Import the data\n",
        "  df = yf.download(\"EURUSD=X\").dropna()\n",
        "\n",
        "  #Rename\n",
        "  df.columns = [\"open\", \"high\", \"low\", \"close\", \"adj close\", \"volume\"]\n",
        "  df.index.name = \"time\"\n",
        "\n",
        "  # Remove adj close\n",
        "  del df[\"adj close\"]\n",
        "\n",
        "  return df\n",
        "\n",
        "df = preprocessing_yf(\"EURUSD=X\")\n",
        "df"
      ]
    },
    {
      "cell_type": "code",
      "execution_count": null,
      "metadata": {
        "id": "vnBDvdnP1EfF"
      },
      "outputs": [],
      "source": []
    }
  ],
  "metadata": {
    "colab": {
      "name": "EN - BG Chapter 5: Data.ipynb",
      "provenance": []
    },
    "kernelspec": {
      "display_name": "Python 3",
      "name": "python3"
    },
    "language_info": {
      "name": "python"
    }
  },
  "nbformat": 4,
  "nbformat_minor": 0
}
